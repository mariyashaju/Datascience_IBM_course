{
 "cells": [
  {
   "cell_type": "code",
   "execution_count": 3,
   "id": "ff272345-a078-4a11-bfe1-7d8fb9e64ff2",
   "metadata": {},
   "outputs": [
    {
     "name": "stderr",
     "output_type": "stream",
     "text": [
      "/tmp/ipykernel_54857/4206655572.py:5: UserWarning: \n",
      "The dash_html_components package is deprecated. Please replace\n",
      "`import dash_html_components as html` with `from dash import html`\n",
      "  import dash_html_components as html\n",
      "/tmp/ipykernel_54857/4206655572.py:6: UserWarning: \n",
      "The dash_core_components package is deprecated. Please replace\n",
      "`import dash_core_components as dcc` with `from dash import dcc`\n",
      "  import dash_core_components as dcc\n"
     ]
    }
   ],
   "source": [
    "# Import required libraries\n",
    "import pandas as pd\n",
    "import dash\n",
    "from dash import html\n",
    "import dash_html_components as html\n",
    "import dash_core_components as dcc\n",
    "from dash.dependencies import Input, Output, State\n",
    "import plotly.graph_objects as go\n",
    "import plotly.express as px\n",
    "from dash import no_update"
   ]
  },
  {
   "cell_type": "code",
   "execution_count": 4,
   "id": "e47ced2a-1454-41f9-8948-cc22a16c35ce",
   "metadata": {},
   "outputs": [
    {
     "data": {
      "text/html": [
       "\n",
       "        <iframe\n",
       "            width=\"100%\"\n",
       "            height=\"650\"\n",
       "            src=\"http://127.0.0.1:8050/\"\n",
       "            frameborder=\"0\"\n",
       "            allowfullscreen\n",
       "            \n",
       "        ></iframe>\n",
       "        "
      ],
      "text/plain": [
       "<IPython.lib.display.IFrame at 0x7f55c1010e80>"
      ]
     },
     "metadata": {},
     "output_type": "display_data"
    },
    {
     "name": "stdout",
     "output_type": "stream",
     "text": [
      "All Sites\n",
      "[0, 9600]\n"
     ]
    }
   ],
   "source": [
    "\n",
    "\n",
    "# Read the airline data into pandas dataframe\n",
    "spacex_df = pd.read_csv(\"spacex_launch_dash.csv\")\n",
    "max_payload = spacex_df['Payload Mass (kg)'].max()\n",
    "min_payload = spacex_df['Payload Mass (kg)'].min()\n",
    "\n",
    "# Create a dash application\n",
    "app = dash.Dash(__name__)\n",
    "\n",
    "# Create an app layout\n",
    "launch_sites = []\n",
    "launch_sites.append({'label': 'All Sites', 'value': 'All Sites'})\n",
    "for item in spacex_df[\"Launch Site\"].value_counts().index:\n",
    "    launch_sites.append({'label': item, 'value': item})\n",
    "app.layout = html.Div(children=[html.H1('SpaceX Launch Records Dashboard',\n",
    "                                        style={'textAlign': 'center', 'color': '#503D36',\n",
    "                                               'font-size': 40}),\n",
    "                                # TASK 1: Add a dropdown list to enable Launch Site selection\n",
    "                                # The default select value is for ALL sites\n",
    "                                dcc.Dropdown(id='site-dropdown', options = launch_sites, value = 'All Sites', placeholder = \"Select a Launch Site here\", searchable = True),\n",
    "                                html.Br(),\n",
    "\n",
    "                                # TASK 2: Add a pie chart to show the total successful launches count for all sites\n",
    "                                # If a specific launch site was selected, show the Success vs. Failed counts for the site\n",
    "                                html.Div(dcc.Graph(id='success-pie-chart')),\n",
    "                                html.Br(),\n",
    "\n",
    "                                html.P(\"Payload range (Kg):\"),\n",
    "                                # TASK 3: Add a slider to select payload range\n",
    "                                dcc.RangeSlider(id='payload-slider', min = 0, max = 10000, step = 1000, value = [min_payload, max_payload], marks={ 2500: {'label': '2500 (Kg)'}, 5000: {'label': '5000 (Kg)'}, 7500: {'label': '7500 (Kg)'}}),\n",
    "\n",
    "                                # TASK 4: Add a scatter chart to show the correlation between payload and launch success\n",
    "                                html.Div(dcc.Graph(id='success-payload-scatter-chart')),\n",
    "                                ])\n",
    "\n",
    "# TASK 2:\n",
    "# Add a callback function for `site-dropdown` as input, `success-pie-chart` as output\n",
    "@app.callback( Output(component_id='success-pie-chart', component_property='figure'),\n",
    "               Input(component_id='site-dropdown', component_property='value')\n",
    ")\n",
    "# Add computation to callback function and return graph\n",
    "def select(inputt):\n",
    "    if inputt == 'All Sites':\n",
    "        new_df = spacex_df.groupby(['Launch Site'])[\"class\"].sum().to_frame()\n",
    "        new_df = new_df.reset_index()\n",
    "        fig = px.pie(new_df, values='class', names='Launch Site', title='Total Success Launches by Site')\n",
    "    else:\n",
    "        new_df = spacex_df[spacex_df[\"Launch Site\"] == inputt][\"class\"].value_counts().to_frame()\n",
    "        new_df[\"name\"] = [\"Failure\", \"Success\"]\n",
    "        fig = px.pie(new_df, values='class', names='name', title='Total Success Launches for ' + inputt)\n",
    "    return fig\n",
    "\n",
    "# TASK 4:\n",
    "# Add a callback function for `site-dropdown` and `payload-slider` as inputs, `success-payload-scatter-chart` as output\n",
    "@app.callback( Output(component_id='success-payload-scatter-chart', component_property='figure'),\n",
    "               Input(component_id='site-dropdown', component_property='value'), Input(component_id='payload-slider', component_property='value') \n",
    ")\n",
    "def scatter(input1, input2):\n",
    "    print(input1)\n",
    "    print(input2)\n",
    "    if input1 == 'All Sites':\n",
    "        new_df = spacex_df\n",
    "        new_df2 = new_df[new_df[\"Payload Mass (kg)\"] >= input2[0]]\n",
    "        new_df3 = new_df2[new_df[\"Payload Mass (kg)\"] <= input2[1]]\n",
    "        fig2 = px.scatter(new_df3, y=\"class\", x=\"Payload Mass (kg)\", color=\"Booster Version Category\")\n",
    "    else:\n",
    "        new_df = spacex_df[spacex_df[\"Launch Site\"] == input1]\n",
    "        new_df2 = new_df[new_df[\"Payload Mass (kg)\"] >= input2[0]]\n",
    "        new_df3 = new_df2[new_df[\"Payload Mass (kg)\"] <= input2[1]]\n",
    "        #new_df2 = new_df[new_df[\"Payload Mass (kg)\"] >= input2[0] & new_df[\"Payload Mass (kg)\"] <= input2[1]]\n",
    "        fig2 = px.scatter(new_df3, y=\"class\", x=\"Payload Mass (kg)\", color=\"Booster Version Category\")\n",
    "    return fig2\n",
    "\n",
    "\n",
    "# Run the app\n",
    "if __name__ == '__main__':\n",
    "    app.run_server()"
   ]
  },
  {
   "cell_type": "code",
   "execution_count": 2,
   "id": "094b5ad1-545a-4ba9-a5de-b1ba35be9b5c",
   "metadata": {},
   "outputs": [
    {
     "name": "stdout",
     "output_type": "stream",
     "text": [
      "Defaulting to user installation because normal site-packages is not writeable\n",
      "Collecting dash\n",
      "  Downloading dash-2.16.1-py3-none-any.whl.metadata (10 kB)\n",
      "Collecting Flask<3.1,>=1.0.4 (from dash)\n",
      "  Downloading flask-3.0.3-py3-none-any.whl.metadata (3.2 kB)\n",
      "Collecting Werkzeug<3.1 (from dash)\n",
      "  Downloading werkzeug-3.0.2-py3-none-any.whl.metadata (4.1 kB)\n",
      "Requirement already satisfied: plotly>=5.0.0 in /home/qb-mariyashaju/.local/lib/python3.8/site-packages (from dash) (5.21.0)\n",
      "Collecting dash-html-components==2.0.0 (from dash)\n",
      "  Downloading dash_html_components-2.0.0-py3-none-any.whl.metadata (3.8 kB)\n",
      "Collecting dash-core-components==2.0.0 (from dash)\n",
      "  Downloading dash_core_components-2.0.0-py3-none-any.whl.metadata (2.9 kB)\n",
      "Collecting dash-table==5.0.0 (from dash)\n",
      "  Downloading dash_table-5.0.0-py3-none-any.whl.metadata (2.4 kB)\n",
      "Requirement already satisfied: importlib-metadata in /home/qb-mariyashaju/.local/lib/python3.8/site-packages (from dash) (7.1.0)\n",
      "Requirement already satisfied: typing-extensions>=4.1.1 in /home/qb-mariyashaju/.local/lib/python3.8/site-packages (from dash) (4.9.0)\n",
      "Requirement already satisfied: requests in /home/qb-mariyashaju/.local/lib/python3.8/site-packages (from dash) (2.31.0)\n",
      "Collecting retrying (from dash)\n",
      "  Downloading retrying-1.3.4-py3-none-any.whl.metadata (6.9 kB)\n",
      "Requirement already satisfied: nest-asyncio in /home/qb-mariyashaju/.local/lib/python3.8/site-packages (from dash) (1.6.0)\n",
      "Requirement already satisfied: setuptools in /home/qb-mariyashaju/.local/lib/python3.8/site-packages (from dash) (69.2.0)\n",
      "Requirement already satisfied: Jinja2>=3.1.2 in /home/qb-mariyashaju/.local/lib/python3.8/site-packages (from Flask<3.1,>=1.0.4->dash) (3.1.3)\n",
      "Collecting itsdangerous>=2.1.2 (from Flask<3.1,>=1.0.4->dash)\n",
      "  Downloading itsdangerous-2.2.0-py3-none-any.whl.metadata (1.9 kB)\n",
      "Requirement already satisfied: click>=8.1.3 in /home/qb-mariyashaju/.local/lib/python3.8/site-packages (from Flask<3.1,>=1.0.4->dash) (8.1.7)\n",
      "Collecting blinker>=1.6.2 (from Flask<3.1,>=1.0.4->dash)\n",
      "  Downloading blinker-1.8.1-py3-none-any.whl.metadata (1.6 kB)\n",
      "Requirement already satisfied: zipp>=0.5 in /home/qb-mariyashaju/.local/lib/python3.8/site-packages (from importlib-metadata->dash) (3.18.1)\n",
      "Requirement already satisfied: tenacity>=6.2.0 in /home/qb-mariyashaju/.local/lib/python3.8/site-packages (from plotly>=5.0.0->dash) (8.2.3)\n",
      "Requirement already satisfied: packaging in /home/qb-mariyashaju/.local/lib/python3.8/site-packages (from plotly>=5.0.0->dash) (24.0)\n",
      "Requirement already satisfied: MarkupSafe>=2.1.1 in /home/qb-mariyashaju/.local/lib/python3.8/site-packages (from Werkzeug<3.1->dash) (2.1.5)\n",
      "Requirement already satisfied: charset-normalizer<4,>=2 in /home/qb-mariyashaju/.local/lib/python3.8/site-packages (from requests->dash) (3.3.2)\n",
      "Requirement already satisfied: idna<4,>=2.5 in /usr/lib/python3/dist-packages (from requests->dash) (2.8)\n",
      "Requirement already satisfied: urllib3<3,>=1.21.1 in /home/qb-mariyashaju/.local/lib/python3.8/site-packages (from requests->dash) (2.2.1)\n",
      "Requirement already satisfied: certifi>=2017.4.17 in /usr/lib/python3/dist-packages (from requests->dash) (2019.11.28)\n",
      "Requirement already satisfied: six>=1.7.0 in /usr/lib/python3/dist-packages (from retrying->dash) (1.14.0)\n",
      "Downloading dash-2.16.1-py3-none-any.whl (10.2 MB)\n",
      "\u001b[2K   \u001b[38;2;114;156;31m━━━━━━━━━━━━━━━━━━━━━━━━━━━━━━━━━━━━━━━━\u001b[0m \u001b[32m10.2/10.2 MB\u001b[0m \u001b[31m7.6 MB/s\u001b[0m eta \u001b[36m0:00:00\u001b[0mm eta \u001b[36m0:00:01\u001b[0m36m0:00:01\u001b[0m\n",
      "\u001b[?25hDownloading dash_core_components-2.0.0-py3-none-any.whl (3.8 kB)\n",
      "Downloading dash_html_components-2.0.0-py3-none-any.whl (4.1 kB)\n",
      "Downloading dash_table-5.0.0-py3-none-any.whl (3.9 kB)\n",
      "Downloading flask-3.0.3-py3-none-any.whl (101 kB)\n",
      "\u001b[2K   \u001b[38;2;114;156;31m━━━━━━━━━━━━━━━━━━━━━━━━━━━━━━━━━━━━━━━━\u001b[0m \u001b[32m101.7/101.7 kB\u001b[0m \u001b[31m5.2 MB/s\u001b[0m eta \u001b[36m0:00:00\u001b[0m\n",
      "\u001b[?25hDownloading werkzeug-3.0.2-py3-none-any.whl (226 kB)\n",
      "\u001b[2K   \u001b[38;2;114;156;31m━━━━━━━━━━━━━━━━━━━━━━━━━━━━━━━━━━━━━━━━\u001b[0m \u001b[32m226.8/226.8 kB\u001b[0m \u001b[31m8.0 MB/s\u001b[0m eta \u001b[36m0:00:00\u001b[0m\n",
      "\u001b[?25hDownloading retrying-1.3.4-py3-none-any.whl (11 kB)\n",
      "Downloading blinker-1.8.1-py3-none-any.whl (9.5 kB)\n",
      "Downloading itsdangerous-2.2.0-py3-none-any.whl (16 kB)\n",
      "Installing collected packages: dash-table, dash-html-components, dash-core-components, Werkzeug, retrying, itsdangerous, blinker, Flask, dash\n",
      "Successfully installed Flask-3.0.3 Werkzeug-3.0.2 blinker-1.8.1 dash-2.16.1 dash-core-components-2.0.0 dash-html-components-2.0.0 dash-table-5.0.0 itsdangerous-2.2.0 retrying-1.3.4\n"
     ]
    }
   ],
   "source": [
    "!pip install dash"
   ]
  },
  {
   "cell_type": "code",
   "execution_count": null,
   "id": "7be3f68d-2e29-4e82-826c-74af12a93c6c",
   "metadata": {},
   "outputs": [],
   "source": []
  }
 ],
 "metadata": {
  "kernelspec": {
   "display_name": "Python 3 (ipykernel)",
   "language": "python",
   "name": "python3"
  },
  "language_info": {
   "codemirror_mode": {
    "name": "ipython",
    "version": 3
   },
   "file_extension": ".py",
   "mimetype": "text/x-python",
   "name": "python",
   "nbconvert_exporter": "python",
   "pygments_lexer": "ipython3",
   "version": "3.8.10"
  }
 },
 "nbformat": 4,
 "nbformat_minor": 5
}
